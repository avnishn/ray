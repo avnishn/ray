{
 "cells": [
  {
   "cell_type": "code",
   "execution_count": 2,
   "id": "339820d0",
   "metadata": {},
   "outputs": [
    {
     "name": "stderr",
     "output_type": "stream",
     "text": [
      "/Users/avnish/miniconda3/envs/rllib37/lib/python3.7/site-packages/ale_py/roms/utils.py:90: DeprecationWarning: SelectableGroups dict interface is deprecated. Use select.\n",
      "  for external in metadata.entry_points().get(self.group, []):\n"
     ]
    }
   ],
   "source": [
    "from ray.rllib.agents.trainer import Trainer\n",
    "from ray import train\n",
    "from ray.train import Trainer as train_trainer\n",
    "\n",
    "\n",
    "import ray\n",
    "\n",
    "\n"
   ]
  },
  {
   "cell_type": "code",
   "execution_count": 3,
   "id": "b6074623",
   "metadata": {},
   "outputs": [],
   "source": [
    "from ray.rllib.evaluation.rollout_worker import RolloutWorker"
   ]
  },
  {
   "cell_type": "code",
   "execution_count": 4,
   "id": "259aa804",
   "metadata": {},
   "outputs": [
    {
     "name": "stderr",
     "output_type": "stream",
     "text": [
      "2022-02-23 15:50:40,415\tINFO services.py:1496 -- View the Ray dashboard at \u001b[1m\u001b[32mhttp://127.0.0.1:8265\u001b[39m\u001b[22m\n",
      "2022-02-23 15:50:43,257\tINFO trainer.py:223 -- Trainer logs will be logged in: /Users/avnish/ray_results/train_2022-02-23_15-50-43\n",
      "\u001b[2m\u001b[36m(_WrappedExecutable pid=81229)\u001b[0m 2022-02-23 15:50:44,865\tINFO torch.py:82 -- Setting up process group for: env:// [rank=0, world_size=2]\n",
      "\u001b[2m\u001b[36m(_WrappedExecutable pid=81219)\u001b[0m 2022-02-23 15:50:44,867\tINFO torch.py:82 -- Setting up process group for: env:// [rank=1, world_size=2]\n"
     ]
    }
   ],
   "source": [
    "class TrainerCls:\n",
    "    def __init__(self, config):\n",
    "        self.config = config\n",
    "#         worker_index = train.world_rank()\n",
    "#         print(worker_index)\n",
    "#         num_workers = config[\"num_workers_for_training\"]\n",
    "#         policy_cls = config[\"default_policy_cls\"]\n",
    "        \n",
    "#         self._local_worker = self._make_worker(\n",
    "#                     cls=RolloutWorker,\n",
    "#                     env_creator=env_creator,\n",
    "#                     validate_env=lambda _: None,\n",
    "#                     policy_cls=self.get_default_policy_class(self.config),\n",
    "#                     worker_index=worker_index,\n",
    "#                     num_workers=num_workers,\n",
    "#                     config=config,\n",
    "#                     spaces=spaces,\n",
    "#                 )\n",
    "\n",
    "    def train_epoch(self):\n",
    "        return 1\n",
    "    \n",
    "    def start(self):\n",
    "        print(train.world_size())\n",
    "\n",
    "\n",
    "config = {\"lr\": 0.1}\n",
    "trainer = train_trainer(num_workers=2, backend=\"torch\")\n",
    "workers = trainer.to_worker_group(train_cls=TrainerCls, config=config)\n",
    "futures = [w.train_epoch.remote() for w in workers]\n",
    "assert ray.get(futures) == [1, 1]\n",
    "assert ray.get(workers[0].train_epoch.remote()) == 1\n",
    "\n",
    "workers.shutdown()"
   ]
  },
  {
   "cell_type": "code",
   "execution_count": null,
   "id": "cd7218ad",
   "metadata": {},
   "outputs": [],
   "source": []
  }
 ],
 "metadata": {
  "kernelspec": {
   "display_name": "Python 3 (ipykernel)",
   "language": "python",
   "name": "python3"
  },
  "language_info": {
   "codemirror_mode": {
    "name": "ipython",
    "version": 3
   },
   "file_extension": ".py",
   "mimetype": "text/x-python",
   "name": "python",
   "nbconvert_exporter": "python",
   "pygments_lexer": "ipython3",
   "version": "3.7.11"
  }
 },
 "nbformat": 4,
 "nbformat_minor": 5
}
